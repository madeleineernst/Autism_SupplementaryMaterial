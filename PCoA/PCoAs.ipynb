{
 "cells": [
  {
   "cell_type": "markdown",
   "metadata": {},
   "source": [
    "## Principal Coordinates Plots"
   ]
  },
  {
   "cell_type": "markdown",
   "metadata": {},
   "source": [
    "Before running this notebook:<br><br>\n",
    "<li><a href=\"https://docs.qiime2.org/2018.11/install/native/#install-qiime-2-within-a-conda-environment\"> install Qiime2</a></li>\n",
    "<li> activate the Qiime2 conda environment by typing:</li>\n",
    "\n",
    "`source activate qiime2-2019.4` <br><br>\n",
    "\n",
    "\n",
    "<li> open this jupyter notebook from within your Qiime2 conda environment</li>"
   ]
  },
  {
   "cell_type": "code",
   "execution_count": 1,
   "metadata": {},
   "outputs": [],
   "source": [
    "import pandas as pd\n",
    "import qiime2 as q2\n",
    "import os\n",
    "path = '/home/people/julcor/.conda/envs/qiime2-2019.4' # define path to your qiime2 conda environment\n",
    "os.environ['PATH'] += ':'+path"
   ]
  },
  {
   "cell_type": "markdown",
   "metadata": {},
   "source": [
    "## Perform a Principal Coordinates Analysis (PCoA) and visualize results interactively in Emperor"
   ]
  },
  {
   "cell_type": "markdown",
   "metadata": {},
   "source": [
    "load feature table"
   ]
  },
  {
   "cell_type": "code",
   "execution_count": 9,
   "metadata": {},
   "outputs": [],
   "source": [
    "ft = pd.read_csv('PPG_KMF_resultingdatamatrix_GNPS.csv', sep = ';', index_col= 0)\n",
    "#ft = pd.read_csv('PPG_KMF_resultingdatamatrix_GNPS_withoutOutliers_withPools.csv', sep = ';', index_col= 0) \n",
    "#ft = pd.read_csv('PPG_KMF_resultingdatamatrix_GNPS_withoutOutliers.csv', sep = ';', index_col= 0)"
   ]
  },
  {
   "cell_type": "code",
   "execution_count": 11,
   "metadata": {},
   "outputs": [],
   "source": [
    "ft.columns = ft.columns.str.replace(' filtered Peak area','')"
   ]
  },
  {
   "cell_type": "markdown",
   "metadata": {},
   "source": [
    "load metadata "
   ]
  },
  {
   "cell_type": "code",
   "execution_count": 13,
   "metadata": {},
   "outputs": [],
   "source": [
    "md = pd.read_csv('metadata.txt', sep = '\\t') "
   ]
  },
  {
   "cell_type": "code",
   "execution_count": 15,
   "metadata": {},
   "outputs": [],
   "source": [
    "md = md.rename(columns={'filename': '#SampleID'})"
   ]
  },
  {
   "cell_type": "markdown",
   "metadata": {},
   "source": [
    "are there any samples missing in the metadata?"
   ]
  },
  {
   "cell_type": "code",
   "execution_count": 17,
   "metadata": {},
   "outputs": [
    {
     "data": {
      "text/plain": [
       "{'row m/z', 'row retention time'}"
      ]
     },
     "execution_count": 17,
     "metadata": {},
     "output_type": "execute_result"
    }
   ],
   "source": [
    "set(ft.columns) - set(md['#SampleID']) "
   ]
  },
  {
   "cell_type": "code",
   "execution_count": 18,
   "metadata": {},
   "outputs": [],
   "source": [
    "ft = ft.drop(['row m/z','row retention time'], axis=1)"
   ]
  },
  {
   "cell_type": "markdown",
   "metadata": {},
   "source": [
    "write formatted metadata and feature table to file"
   ]
  },
  {
   "cell_type": "code",
   "execution_count": 19,
   "metadata": {},
   "outputs": [],
   "source": [
    "md.to_csv(\"Metadata_Qiime2.tsv\",sep='\\t',index=False)"
   ]
  },
  {
   "cell_type": "code",
   "execution_count": 20,
   "metadata": {},
   "outputs": [],
   "source": [
    "ft.to_csv(\"Featuretable_Qiime2.tsv\",sep='\\t',index=True)"
   ]
  },
  {
   "cell_type": "markdown",
   "metadata": {},
   "source": [
    "convert feature table to the Qiime2 .qza format"
   ]
  },
  {
   "cell_type": "code",
   "execution_count": 21,
   "metadata": {},
   "outputs": [],
   "source": [
    "! biom convert -i Featuretable_Qiime2.tsv -o FeatureTable_MultStats.biom --table-type=\"OTU table\" --to-hdf5"
   ]
  },
  {
   "cell_type": "code",
   "execution_count": null,
   "metadata": {},
   "outputs": [],
   "source": [
    "! qiime tools import --type 'FeatureTable[Frequency]' --input-path FeatureTable_MultStats.biom --output-path FeatureTable_MultStats.qza"
   ]
  },
  {
   "cell_type": "markdown",
   "metadata": {},
   "source": [
    "#### Calculate Bray-Curtis distances and visualize PCoA in Emperor"
   ]
  },
  {
   "cell_type": "code",
   "execution_count": 16,
   "metadata": {
    "collapsed": true
   },
   "outputs": [],
   "source": [
    "! mkdir MultStats"
   ]
  },
  {
   "cell_type": "code",
   "execution_count": 17,
   "metadata": {},
   "outputs": [
    {
     "name": "stdout",
     "output_type": "stream",
     "text": [
      "\u001b[32mSaved DistanceMatrix to: MultStats/bray_distance_matrix.qza\u001b[0m\n",
      "\u001b[32mSaved PCoAResults to: MultStats/bray_distance_matrix_PcoA.qza\u001b[0m\n",
      "\u001b[32mSaved Visualization to: MultStats/bray_distance_matrix_PcoA.qzv\u001b[0m\n"
     ]
    }
   ],
   "source": [
    "! qiime diversity beta --i-table FeatureTable_MultStats.qza --p-metric braycurtis --o-distance-matrix MultStats/bray_distance_matrix.qza\n",
    "! qiime diversity pcoa --i-distance-matrix MultStats/bray_distance_matrix.qza --o-pcoa MultStats/bray_distance_matrix_PcoA.qza\n",
    "! qiime emperor plot --i-pcoa MultStats/bray_distance_matrix_PcoA.qza --m-metadata-file Metadata_Qiime2.tsv --o-visualization MultStats/bray_distance_matrix_PcoA.qzv"
   ]
  },
  {
   "cell_type": "markdown",
   "metadata": {},
   "source": [
    "#### Calculate Canberra distances and visualize PCoA in Emperor"
   ]
  },
  {
   "cell_type": "code",
   "execution_count": 18,
   "metadata": {},
   "outputs": [
    {
     "name": "stdout",
     "output_type": "stream",
     "text": [
      "\u001b[32mSaved DistanceMatrix to: MultStats/canberra_distance_matrix.qza\u001b[0m\n",
      "\u001b[32mSaved PCoAResults to: MultStats/canberra_distance_matrix_PcoA.qza\u001b[0m\n",
      "\u001b[32mSaved Visualization to: MultStats/canberra_distance_matrix_PcoA.qzv\u001b[0m\n"
     ]
    }
   ],
   "source": [
    "! qiime diversity beta --i-table FeatureTable_MultStats.qza --p-metric canberra --o-distance-matrix MultStats/canberra_distance_matrix.qza\n",
    "! qiime diversity pcoa --i-distance-matrix MultStats/canberra_distance_matrix.qza --o-pcoa MultStats/canberra_distance_matrix_PcoA.qza\n",
    "! qiime emperor plot --i-pcoa MultStats/canberra_distance_matrix_PcoA.qza --m-metadata-file Metadata_Qiime2.tsv --o-visualization MultStats/canberra_distance_matrix_PcoA.qzv"
   ]
  },
  {
   "cell_type": "markdown",
   "metadata": {},
   "source": [
    "#### Calculate Jaccard distances and visualize PCoA in Emperor"
   ]
  },
  {
   "cell_type": "code",
   "execution_count": 19,
   "metadata": {},
   "outputs": [
    {
     "name": "stdout",
     "output_type": "stream",
     "text": [
      "\u001b[32mSaved DistanceMatrix to: MultStats/jaccard_distance_matrix.qza\u001b[0m\n",
      "\u001b[32mSaved PCoAResults to: MultStats/jaccard_distance_matrix_PcoA.qza\u001b[0m\n",
      "\u001b[32mSaved Visualization to: MultStats/jaccard_distance_matrix_PcoA.qzv\u001b[0m\n"
     ]
    }
   ],
   "source": [
    "! qiime diversity beta --i-table FeatureTable_MultStats.qza --p-metric jaccard --o-distance-matrix MultStats/jaccard_distance_matrix.qza\n",
    "! qiime diversity pcoa --i-distance-matrix MultStats/jaccard_distance_matrix.qza --o-pcoa MultStats/jaccard_distance_matrix_PcoA.qza\n",
    "! qiime emperor plot --i-pcoa MultStats/jaccard_distance_matrix_PcoA.qza --m-metadata-file Metadata_Qiime2.tsv --o-visualization MultStats/jaccard_distance_matrix_PcoA.qzv"
   ]
  },
  {
   "cell_type": "markdown",
   "metadata": {},
   "source": [
    "#### Calculate Robust Aitchison distances and visualize PCoA in Emperor"
   ]
  },
  {
   "cell_type": "code",
   "execution_count": 20,
   "metadata": {},
   "outputs": [
    {
     "name": "stdout",
     "output_type": "stream",
     "text": [
      "\u001b[32mSaved PCoAResults % Properties('biplot') to: MultStats/deicode_distance_matrix_PCoA.qza\u001b[0m\r\n",
      "\u001b[32mSaved DistanceMatrix to: MultStats/deicode_distance_matrix.qza\u001b[0m\r\n"
     ]
    }
   ],
   "source": [
    "! qiime deicode rpca \\\n",
    "    --i-table FeatureTable_MultStats.qza \\\n",
    "    --p-min-feature-count 0 \\\n",
    "    --p-min-sample-count 0 \\\n",
    "    --o-biplot MultStats/deicode_distance_matrix_PCoA.qza \\\n",
    "    --o-distance-matrix MultStats/deicode_distance_matrix.qza"
   ]
  },
  {
   "cell_type": "code",
   "execution_count": 21,
   "metadata": {},
   "outputs": [
    {
     "name": "stdout",
     "output_type": "stream",
     "text": [
      "\u001b[32mSaved Visualization to: MultStats/deicode_distance_matrix_PCoA.qzv\u001b[0m\r\n"
     ]
    }
   ],
   "source": [
    "! qiime emperor biplot \\\n",
    "    --i-biplot MultStats/deicode_distance_matrix_PCoA.qza \\\n",
    "    --m-sample-metadata-file Metadata_Qiime2.tsv \\\n",
    "    --o-visualization MultStats/deicode_distance_matrix_PCoA.qzv \\\n",
    "    --p-number-of-features 8"
   ]
  }
 ],
 "metadata": {
  "anaconda-cloud": {},
  "kernelspec": {
   "display_name": "Python 3",
   "language": "python",
   "name": "python3"
  },
  "language_info": {
   "codemirror_mode": {
    "name": "ipython",
    "version": 3
   },
   "file_extension": ".py",
   "mimetype": "text/x-python",
   "name": "python",
   "nbconvert_exporter": "python",
   "pygments_lexer": "ipython3",
   "version": "3.7.3"
  }
 },
 "nbformat": 4,
 "nbformat_minor": 2
}
